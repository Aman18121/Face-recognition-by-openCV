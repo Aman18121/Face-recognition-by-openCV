{
 "cells": [
  {
   "cell_type": "code",
   "execution_count": null,
   "id": "68978429-3893-4a5a-af70-226d62988475",
   "metadata": {},
   "outputs": [],
   "source": [
    "!pip install tf-keras"
   ]
  },
  {
   "cell_type": "code",
   "execution_count": null,
   "id": "fadcb912-9c60-4d41-a487-b98827ee1dd2",
   "metadata": {},
   "outputs": [],
   "source": [
    "!pip install opencv-python deepface"
   ]
  },
  {
   "cell_type": "code",
   "execution_count": null,
   "id": "0a3fff04-e1f1-45fe-8450-d7fde145c420",
   "metadata": {},
   "outputs": [],
   "source": [
    "!pip install cmake dlib face-recognition"
   ]
  },
  {
   "cell_type": "code",
   "execution_count": null,
   "id": "a317d8e2-8ce1-41ef-913f-517dd7789312",
   "metadata": {},
   "outputs": [],
   "source": []
  },
  {
   "cell_type": "code",
   "execution_count": null,
   "id": "2426c73b-810a-49ac-9303-928aa469ebb5",
   "metadata": {},
   "outputs": [],
   "source": [
    "import cv2\n",
    "import threading\n",
    "from deepface import DeepFace\n",
    "\n",
    "# Open webcam\n",
    "capture = cv2.VideoCapture(0, cv2.CAP_DSHOW)\n",
    "capture.set(cv2.CAP_PROP_FRAME_WIDTH, 800)\n",
    "capture.set(cv2.CAP_PROP_FRAME_HEIGHT, 800)\n",
    "\n",
    "\n",
    "counter = 0\n",
    "match = False\n",
    "\n",
    "\n",
    "reference = cv2.imread(\"Open.CV Sample picture.jpeg\")\n",
    "\n",
    "def face_match(frame):\n",
    "    global match\n",
    "    try:\n",
    "        if DeepFace.verify(frame, reference.copy())['verified']:\n",
    "            match = True\n",
    "        else:\n",
    "            match = False\n",
    "    except ValueError:\n",
    "        match = False\n",
    "    except Exception as e:\n",
    "        print(f\"Error: {e}\")\n",
    "        match = False\n",
    "\n",
    "while True:\n",
    "    ret, frame = capture.read()\n",
    "    \n",
    "    if not ret:\n",
    "        continue  \n",
    "    \n",
    "    if counter % 30 == 0:  \n",
    "        try:\n",
    "            threading.Thread(target=face_match, args=(frame.copy(),)).start()\n",
    "        except ValueError:\n",
    "            pass\n",
    "    \n",
    "    counter += 1\n",
    "    \n",
    "   \n",
    "    if match:\n",
    "        cv2.putText(frame, \"Image Matched!!\", (800//2, 800//2), cv2.FONT_HERSHEY_SIMPLEX, 2, (0, 255, 0), 3)\n",
    "    else:\n",
    "        cv2.putText(frame, \"No Match\", (800//2, 800//2), cv2.FONT_HERSHEY_SIMPLEX, 2, (0, 0, 255), 3)\n",
    "    \n",
    "    cv2.imshow(\"Webcam Feed\", frame)\n",
    "    \n",
    "    if cv2.waitKey(1) & 0xFF == ord('q'): \n",
    "        break\n",
    "\n",
    "capture.release()\n",
    "cv2.destroyAllWindows()\n"
   ]
  },
  {
   "cell_type": "code",
   "execution_count": null,
   "id": "ce271e87-6730-48f2-8307-0dc5865c22c7",
   "metadata": {},
   "outputs": [],
   "source": []
  }
 ],
 "metadata": {
  "kernelspec": {
   "display_name": "Python 3 (ipykernel)",
   "language": "python",
   "name": "python3"
  },
  "language_info": {
   "codemirror_mode": {
    "name": "ipython",
    "version": 3
   },
   "file_extension": ".py",
   "mimetype": "text/x-python",
   "name": "python",
   "nbconvert_exporter": "python",
   "pygments_lexer": "ipython3",
   "version": "3.11.7"
  }
 },
 "nbformat": 4,
 "nbformat_minor": 5
}
